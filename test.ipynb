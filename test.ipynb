{
 "cells": [
  {
   "cell_type": "code",
   "execution_count": 1,
   "metadata": {},
   "outputs": [],
   "source": [
    "import pandas as pd\n",
    "\n",
    "data = pd.read_csv(\"data.txt\",sep=\"\\t\")"
   ]
  },
  {
   "cell_type": "code",
   "execution_count": 4,
   "metadata": {},
   "outputs": [
    {
     "name": "stdout",
     "output_type": "stream",
     "text": [
      "<class 'pandas.core.frame.DataFrame'>\n",
      "RangeIndex: 60295 entries, 0 to 60294\n",
      "Data columns (total 37 columns):\n",
      " #   Column                              Non-Null Count  Dtype \n",
      "---  ------                              --------------  ----- \n",
      " 0   #BioGRID Interaction ID             60295 non-null  int64 \n",
      " 1   Entrez Gene Interactor A            60295 non-null  object\n",
      " 2   Entrez Gene Interactor B            60295 non-null  object\n",
      " 3   BioGRID ID Interactor A             60295 non-null  int64 \n",
      " 4   BioGRID ID Interactor B             60295 non-null  int64 \n",
      " 5   Systematic Name Interactor A        60295 non-null  object\n",
      " 6   Systematic Name Interactor B        60295 non-null  object\n",
      " 7   Official Symbol Interactor A        60295 non-null  object\n",
      " 8   Official Symbol Interactor B        60295 non-null  object\n",
      " 9   Synonyms Interactor A               60295 non-null  object\n",
      " 10  Synonyms Interactor B               60295 non-null  object\n",
      " 11  Experimental System                 60295 non-null  object\n",
      " 12  Experimental System Type            60295 non-null  object\n",
      " 13  Author                              60295 non-null  object\n",
      " 14  Publication Source                  60295 non-null  object\n",
      " 15  Organism ID Interactor A            60295 non-null  int64 \n",
      " 16  Organism ID Interactor B            60295 non-null  int64 \n",
      " 17  Throughput                          60295 non-null  object\n",
      " 18  Score                               60295 non-null  object\n",
      " 19  Modification                        60295 non-null  object\n",
      " 20  Qualifications                      60295 non-null  object\n",
      " 21  Tags                                60295 non-null  object\n",
      " 22  Source Database                     60295 non-null  object\n",
      " 23  SWISS-PROT Accessions Interactor A  60295 non-null  object\n",
      " 24  TREMBL Accessions Interactor A      60295 non-null  object\n",
      " 25  REFSEQ Accessions Interactor A      60289 non-null  object\n",
      " 26  SWISS-PROT Accessions Interactor B  60295 non-null  object\n",
      " 27  TREMBL Accessions Interactor B      60295 non-null  object\n",
      " 28  REFSEQ Accessions Interactor B      60266 non-null  object\n",
      " 29  Ontology Term IDs                   60295 non-null  object\n",
      " 30  Ontology Term Names                 60295 non-null  object\n",
      " 31  Ontology Term Categories            60295 non-null  object\n",
      " 32  Ontology Term Qualifier IDs         60295 non-null  object\n",
      " 33  Ontology Term Qualifier Names       60295 non-null  object\n",
      " 34  Ontology Term Types                 60295 non-null  object\n",
      " 35  Organism Name Interactor A          60295 non-null  object\n",
      " 36  Organism Name Interactor B          60295 non-null  object\n",
      "dtypes: int64(5), object(32)\n",
      "memory usage: 17.0+ MB\n"
     ]
    }
   ],
   "source": [
    "data.info()"
   ]
  }
 ],
 "metadata": {
  "kernelspec": {
   "display_name": "Python 3",
   "language": "python",
   "name": "python3"
  },
  "language_info": {
   "codemirror_mode": {
    "name": "ipython",
    "version": 3
   },
   "file_extension": ".py",
   "mimetype": "text/x-python",
   "name": "python",
   "nbconvert_exporter": "python",
   "pygments_lexer": "ipython3",
   "version": "3.11.3"
  }
 },
 "nbformat": 4,
 "nbformat_minor": 2
}
